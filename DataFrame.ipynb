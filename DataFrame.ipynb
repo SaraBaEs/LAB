{
  "nbformat": 4,
  "nbformat_minor": 0,
  "metadata": {
    "colab": {
      "provenance": []
    },
    "kernelspec": {
      "name": "python3",
      "display_name": "Python 3"
    },
    "language_info": {
      "name": "python"
    }
  },
  "cells": [
    {
      "cell_type": "code",
      "execution_count": null,
      "metadata": {
        "id": "U_Vv28uN400r"
      },
      "outputs": [],
      "source": [
        "import pandas as pd\n",
        "from datetime import datetime, timedelta\n",
        "\n",
        "def generar_registros(fecha_inicio, fecha_fin):\n",
        "    # Crear un DataFrame vacío con las columnas necesarias\n",
        "    columnas = [\"Date\", \"Year\", \"Month\", \"Semester\", \"DayOfYear\", \"DayOfMonth\", \"DayOfWeek\", \"WeekOfYear\", \"WeekOfMonth\"]  # Ajusta las columnas según tus necesidades\n",
        "    df = pd.DataFrame(columns=columnas)\n",
        "\n",
        "    # Convertir las fechas de entrada a objetos datetime\n",
        "    fecha_actual = datetime.strptime(fecha_inicio, \"%Y-%m-%d\")\n",
        "    fecha_fin = datetime.strptime(fecha_fin, \"%Y-%m-%d\")\n",
        "\n",
        "    # Iterar por cada día entre las fechas de inicio y fin\n",
        "    while fecha_actual <= fecha_fin:\n",
        "        # Crear un nuevo registro con la fecha actual y valores predeterminados\n",
        "        nuevo_registro = {\n",
        "            \"Date\": fecha_actual.strftime(\"%Y-%m-%d\"),\n",
        "            \"Year\": fecha_actual.year,\n",
        "            \"Month\": fecha_actual.month,\n",
        "            \"Semester\": (fecha_actual.month - 1) // 6 + 1,\n",
        "            \"DayOfYear\": fecha_actual.timetuple().tm_yday,\n",
        "            \"DayOfMonth\": fecha_actual.day,\n",
        "            \"DayOfWeek\": fecha_actual.weekday()+1,\n",
        "            \"WeekOfYear\": fecha_actual.strftime(\"%U\"),\n",
        "            \"WeekOfMonth\": str((fecha_actual.day - 1) // 7 + 1)\n",
        "        }\n",
        "\n",
        "        # Agregar el nuevo registro al DataFrame\n",
        "        df = df.append(nuevo_registro, ignore_index=True)\n",
        "\n",
        "        # Avanzar a la siguiente fecha\n",
        "        fecha_actual += timedelta(days=1)\n",
        "\n",
        "    return df\n",
        "\n",
        "# Ejemplo de uso\n",
        "fecha_inicio = \"2023-05-03\"\n",
        "fecha_fin = \"2023-05-20\"\n",
        "registros = generar_registros(fecha_inicio, fecha_fin)\n",
        "print(registros)\n"
      ]
    }
  ]
}